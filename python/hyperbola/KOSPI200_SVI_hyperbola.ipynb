{
  "nbformat": 4,
  "nbformat_minor": 0,
  "metadata": {
    "colab": {
      "name": "KOSPI200_SVI_hyperbola.ipynb",
      "private_outputs": true,
      "provenance": [],
      "collapsed_sections": [],
      "authorship_tag": "ABX9TyMyH5GYY/JNphzy8zKkzKrF",
      "include_colab_link": true
    },
    "kernelspec": {
      "name": "python3",
      "display_name": "Python 3"
    },
    "language_info": {
      "name": "python"
    }
  },
  "cells": [
    {
      "cell_type": "markdown",
      "metadata": {
        "id": "view-in-github",
        "colab_type": "text"
      },
      "source": [
        "<a href=\"https://colab.research.google.com/github/FinancialEngineerLab/ShineSVIProject/blob/main/KOSPI200_SVI_hyperbola.ipynb\" target=\"_parent\"><img src=\"https://colab.research.google.com/assets/colab-badge.svg\" alt=\"Open In Colab\"/></a>"
      ]
    },
    {
      "cell_type": "code",
      "execution_count": null,
      "metadata": {
        "id": "HQ9yHztTpSS9"
      },
      "outputs": [],
      "source": [
        "import datetime\n",
        "import numpy as np\n",
        "import pandas as pd\n",
        "import matplotlib.pyplot as plt\n",
        "#from arch import arch_model\n",
        "from scipy.stats import norm\n",
        "from matplotlib import cm\n",
        "from scipy import interpolate as interpolate\n",
        "import math as mth\n",
        "from mpl_toolkits.mplot3d import Axes3D\n",
        "import scipy as sp\n",
        "from matplotlib.backends.backend_pdf import PdfPages"
      ]
    },
    {
      "cell_type": "code",
      "source": [
        "from __future__ import division"
      ],
      "metadata": {
        "id": "_NcIghvkpc-P"
      },
      "execution_count": null,
      "outputs": []
    },
    {
      "cell_type": "code",
      "source": [
        "# !rm *.xlsx\n",
        "from google.colab import files"
      ],
      "metadata": {
        "id": "VGjG3WFM0kFx"
      },
      "execution_count": null,
      "outputs": []
    },
    {
      "cell_type": "code",
      "source": [
        "### 1. Functions : For Operation ###\n",
        "# logging \n",
        "def log(**s):\n",
        "    for s in ss:print(s)\n",
        "# Do some plots as pdf files\n",
        "def doplots(basefn):\n",
        "    i=0\n",
        "    for T in expirs:\n",
        "        i+=1\n",
        "        pp=PdfPages(basefn+'-'+str(i)+'.pdf')\n",
        "        plt.figure(i,figsize=(8.0,10.0))\n",
        "        plt.subplot(311)\n",
        "        plt.title('Slice '+str(i)+': Expiration T='+str(T))\n",
        "        plt.xlabel('Log-Strike')\n",
        "        plt.ylabel('Option price')\n",
        "        plt.xlim(-0.1,0.3)\n",
        "        t=data.loc[data['Expiration']==T,'LogStrike']\n",
        "        c=data.loc[data['Expiration']==T,'Mid_Matrix']\n",
        "        tt=grid[T]\n",
        "        w=[straightSVI(k,chi.loc[T,'m1'],chi.loc[T,'m2'],chi.loc[T,'q1'],chi.loc[T,'q2'],chi.loc[T,'c'])/T for k in grid[T]]\n",
        "        m=[BlackScholes(\"C\",S0,K,r,sig,T,q) for K,sig in zip(grid.index,np.sqrt(w))]\n",
        "        plt.plot(t,c,'bo',tt,m,'k')\n",
        "        plt.subplot(312)\n",
        "        plt.xlabel('Log-Strike')\n",
        "        plt.ylabel('Implied volatility')\n",
        "        plt.xlim(-0.1,0.3)\n",
        "        iv=data.loc[data['Expiration']==T,'IV']\n",
        "\n",
        "        cv=np.sqrt(w)\n",
        "        plt.plot(t,iv,'bo',tt,cv,'k')\n",
        "        plt.subplot(313)\n",
        "        plt.xlabel('Log-Strike')\n",
        "        plt.ylabel('Risk-Neutral Density')\n",
        "        plt.xlim(-0.1,0.3)\n",
        "        p=[RND(k,chi.loc[T,'m1'],chi.loc[T,'m2'],chi.loc[T,'q1'],chi.loc[T,'q2'],chi.loc[T,'c']) for k in grid[T]]\n",
        "        plt.plot(tt,p,'k')\n",
        "        plt.savefig(pp,format='pdf')\n",
        "        pp.close()"
      ],
      "metadata": {
        "id": "smx3dvbJpgIH"
      },
      "execution_count": null,
      "outputs": []
    },
    {
      "cell_type": "code",
      "source": [
        "### 2. Functions : For Black Scholes Merton ###\n",
        "# Black Scholes formula\n",
        "def BlackScholes(type, S0, K, r, sigma, T, q):\n",
        "    def d1(S0, K, r, sigma, T, q):\n",
        "        return (np.log(S0 / K) + (r - q + sigma ** 2 / 2) * T) / (sigma * np.sqrt(T))\n",
        "\n",
        "    def d2(S0, K, r, sigma, T, q):\n",
        "        return (np.log(S0 / K) + (r - q - sigma ** 2 / 2) * T) / (sigma * np.sqrt(T))\n",
        "\n",
        "    if type == \"C\":\n",
        "        return S0 * np.exp(- q * T) * norm.cdf(d1(S0, K, r, sigma, T, q)) - K * np.exp(-r * T) * norm.cdf(\n",
        "            d2(S0, K, r, sigma, T, q))\n",
        "    else:\n",
        "        return K * np.exp(-r * T) * norm.cdf(-d2(S0, K, r, sigma, T, q)) - S0 * np.exp(-q * T) * norm.cdf(\n",
        "            -d1(S0, K, r, sigma, T, q))"
      ],
      "metadata": {
        "id": "EI7Pr6FfqbSQ"
      },
      "execution_count": null,
      "outputs": []
    },
    {
      "cell_type": "code",
      "source": [
        "### 3-1. Hyperbolic Aysmptotes Parameterization for Raw SVI ###\n",
        "\n",
        "# raw SVI Parameterization\n",
        "def rawSVI(k, a,b,rho,m,sigma):\n",
        "    return a+b*(rho*(k-m)+np.sqrt((k-m)**2+sigma**2))\n",
        "\n",
        "# Hyperbola asymptotes parametrisation\n",
        "def straightSVI(x,m1,m2,q1,q2,c):\n",
        "    return ((m1+m2)*x+q1+q2+np.sqrt(((m1+m2)*x+q1+q2)**2-4*(m1*m2*x**2+(m1*q2+m2*q1)*x+q1*q2-c)))/2\n",
        "\n",
        "# 1st differentiation\n",
        "def straightSVIp(x,m1,m2,q1,q2,c):\n",
        "    H=np.sqrt(((m1+m2)*x+q1+q2)**2-4*(m1*m2*x**2+(m1*q2+m2*q1)*x+q1*q2-c))\n",
        "    return ((m1+m2)+((m1+m2)*((m1+m2)*x+q1+q2)-4*m1*m2*x-2*(m1*q2+m2*q1))/H)/2\n",
        "\n",
        "# 2nd differentiation\n",
        "def straightSVIpp(x,m1,m2,q1,q2,c):\n",
        "    H=np.sqrt(((m1+m2)*x+q1+q2)**2-4*(m1*m2*x**2+(m1*q2+m2*q1)*x+q1*q2-c))\n",
        "    A=(2*(m1+m2)**2-8*m1*m2)/H\n",
        "    B=(2*(m1+m2)*((m1+m2)*x+q1+q2)-8*m1*m2*x-4*(m1*q2+m2*q1))**2/H**3/2\n",
        "    return (A-B)/4\n",
        "\n",
        "# Alternative parametrisation including the parabola\n",
        "def stdSVI(x,a0,a1,a2,a3,a4):\n",
        "    return (-a1*x-a3+np.sqrt((a1*x+a3)**2-4*a0*(a2*x**2+x+a4)))/(2*a0)\n",
        "\n",
        "# Obtain asymptotic parameters from alternative parametrization\n",
        "def std2straight(a):\n",
        "    m1=-a[1]/a[0]/2.-np.sqrt((a[1]/a[0])**2/4.-a[2]/a[0])\n",
        "    m2=-a[1]/a[0]/2.+np.sqrt((a[1]/a[0])**2/4.-a[2]/a[0])\n",
        "    q1=(1+m1*a[3])/a[0]/(m2-m1)\n",
        "    q2=(1+m2*a[3])/a[0]/(m1-m2)\n",
        "    c =q1*q2-a[4]/a[0]\n",
        "    return [m1,m2,q1,q2,c]"
      ],
      "metadata": {
        "id": "2XAuCp95qbUY"
      },
      "execution_count": null,
      "outputs": []
    },
    {
      "cell_type": "code",
      "source": [
        "### 3-2. raw SVI Parameters from Hyperbolic Aysmptotes Parameterization ###\n",
        "\n",
        "# chi structure\n",
        "# : m1,m2,q1,q2,c\n",
        "\n",
        "def straight2raw(chi):\n",
        "    a=(chi[0]*chi[3]-chi[1]*chi[2])/(chi[0]-chi[1])\n",
        "\n",
        "    b=abs(chi[0]-chi[1])/2.\n",
        "\n",
        "    rho=(chi[0]+chi[1])/abs(chi[0]-chi[1])\n",
        "\n",
        "    m=-(chi[2]-chi[3])/(chi[0]-chi[1])\n",
        "\n",
        "    sigma=np.sqrt(4*chi[4])/abs(chi[0]-chi[1])\n",
        "\n",
        "    return [a,b,rho,m,sigma]\n",
        "\n",
        "# Calculate risk neutral density wrt logstrike \n",
        "def RND(k,m1,m2,q1,q2,c):\n",
        "    w=straightSVI(k,m1,m2,q1,q2,c)\n",
        "    wp=straightSVIp(k,m1,m2,q1,q2,c)\n",
        "    wpp=straightSVIpp(k,m1,m2,q1,q2,c)\n",
        "\n",
        "    g=(1.-k*wp/(2.*w))**2-wp**2/4.*(1./w+1./4.)+wpp/2. #from gatheral's paper 'Free of Butterfly Arbitrage, non negative g(k)\n",
        "    \n",
        "    return g/np.sqrt(2*np.pi*w)*np.exp(-0.5*((-k-w/2.)**2/w))"
      ],
      "metadata": {
        "id": "gZr1uuW6qbWT"
      },
      "execution_count": null,
      "outputs": []
    },
    {
      "cell_type": "code",
      "source": [
        "### 4. Data Manipulation ###\n",
        "\n",
        "# Define some constants\n",
        "S0      = 400.00           # asset price\n",
        "q       = 0.0180             # dividends\n",
        "r       = 0.0125              # interest rate\n",
        "\n",
        "sig0    = 0.01           # initial volatility guess\n",
        "lvol    = 0.05               # lower volatility acceptance limit\n",
        "uvol    = 3.00               # upper volatility acceptance limit\n",
        "bpen    = 128                # initial butterfly penalty factor\n",
        "cpen    = 128                # initial calendar penalty factor\n",
        "blim    = 0.001              # target butterfly arbitrage bound\n",
        "clim    = 0.001              # target calendar arbitrage bound"
      ],
      "metadata": {
        "id": "uloctZ-TztED"
      },
      "execution_count": null,
      "outputs": []
    },
    {
      "cell_type": "code",
      "source": [
        "# Read raw data\n",
        "#log('Reading raw data ...')\n",
        "uploaded = files.upload()"
      ],
      "metadata": {
        "id": "JTFTZsuz0pKA"
      },
      "execution_count": null,
      "outputs": []
    },
    {
      "cell_type": "code",
      "source": [
        "data=pd.read_excel('data_1508_20211210.xlsx')\n",
        "data.columns=['Expiration','Strike','Mid_Matrix']\n",
        "\n",
        "num=pd.DataFrame(index=sorted(set(data['Expiration'])))\n",
        "num['Raw']=[len(data.loc[data['Expiration']==T]) for T in sorted(set(data['Expiration']))]\n",
        "\n",
        "# Add column LogStrike to data\n",
        "def logstrike(K,T): return np.log(K/S0*np.exp(-(r-q)*T))\n",
        "data['LogStrike']=[logstrike(K,T) for K,T in zip(data['Strike'],data['Expiration'])]\n",
        "\n",
        "# Helper function to solve for implied volatility\n",
        "def bsaux(sigma, type, S0, K, r, T, q, C): return BlackScholes(type, S0, K, r, sigma, T, q)-C\n",
        "#log('Calculating implied volatilities ...')\n",
        "data['IV']=[sp.optimize.bisect(bsaux,-1,100,args=(\"C\",S0,K,r,T,q,C),xtol=1e-3) for K,T,C in zip(data['Strike'],data['Expiration'],data['Mid_Matrix'])]\n",
        "\n",
        "# Clean raw data wrt an implied volatility bound and report number of records\n",
        "#log('Cleaning data to ensure '+str(lvol)+' <= IV <= '+str(uvol)+' ...')\n",
        "print('Cleaning data to ensure '+str(lvol)+' <= IV <= '+str(uvol)+' ...')\n",
        "data=data.loc[(data['IV']>lvol) & (data['IV']<uvol), :]\n",
        "num['Clean']=[len(data.loc[data['Expiration']==T]) for T in sorted(set(data['Expiration']))]\n",
        "\n",
        "data = data[data['Expiration'].isin(num[num['Clean']>=5].index)]\n",
        "#log('Number of records in raw and cleaned dataset:',num)\n",
        "\n",
        "print('Number of records in raw and cleaned dataset:',num)\n",
        "print('     ')\n",
        "print('Raw Data', data)\n",
        "#print('SC Data', data2)"
      ],
      "metadata": {
        "id": "1FPgVJxkpgKR"
      },
      "execution_count": null,
      "outputs": []
    },
    {
      "cell_type": "code",
      "source": [
        "num"
      ],
      "metadata": {
        "id": "3QgO5Yk2JaNM"
      },
      "execution_count": null,
      "outputs": []
    },
    {
      "cell_type": "code",
      "source": [
        "# Prepare grid on which to check presence of arbitrage\n",
        "\n",
        "#expirs = sorted(set(data['Expiration']))\n",
        "#strikes = sorted(set(data['Strike']))\n",
        "expirs = sorted(set(data['Expiration']))\n",
        "strikes = sorted(set(data['Strike']))\n",
        "grid=pd.DataFrame(index=strikes)\n",
        "for T in expirs: grid[T]=[logstrike(K,T) for K in strikes]"
      ],
      "metadata": {
        "id": "xgfiXMERZ6Uz"
      },
      "execution_count": null,
      "outputs": []
    },
    {
      "cell_type": "code",
      "source": [
        "### 5. SVI Volatlity Surface Functions ###\n",
        "\n",
        "# Variable to store parameter vectors chi\n",
        "chi=pd.DataFrame(index=expirs,columns=['m1','m2','q1','q2','c'])\n",
        "\n",
        "# Residuals function for fitting implied volatility\n",
        "def residSVI(chi,T):\n",
        "    w=[straightSVI(k,chi[0],chi[1],chi[2],chi[3],chi[4]) for k in data.loc[data['Expiration']==T,'LogStrike']]\n",
        "    #print(w)\n",
        "    #wT0=[straightSVI(k,chi[0],chi[1],chi[2],chi[3],chi[4]) for k in data.loc[data['Expiration']==T,'LogStrike']]/T\n",
        "    wT=[straightSVI(k,chi[0],chi[1],chi[2],chi[3],chi[4])/T for k in data.loc[data['Expiration']==T,'LogStrike']]\n",
        "    w2 = data.loc[data['Expiration']==T,'IV']\n",
        "    w1 = np.sqrt(wT)\n",
        "    #w1_n=np.sqrt(w/T)\n",
        "    temp = w2 - w1\n",
        "    #print(temp)\n",
        "    return temp\n",
        "\n",
        "# Function to obtain initial parameter vector for fit\n",
        "def chi0(T):\n",
        "    # Split data in five intervals and calculate mean x and mean y\n",
        "    kmin=np.min(data.loc[data['Expiration']==T,'LogStrike'])\n",
        "    kmax=np.max(data.loc[data['Expiration']==T,'LogStrike'])\n",
        "    klo=[kmin+i*(kmax-kmin)/5. for i in range(5)]\n",
        "    kup=[kmin+(i+1)*(kmax-kmin)/5. for i in range(5)]\n",
        "    xm=np.array([np.mean(data.loc[(data['Expiration']==T) & (l<=data['LogStrike']) & (data['LogStrike']<=u),'LogStrike']) for l,u in zip(klo,kup)])\n",
        "    ym=np.array([np.mean(T*data.loc[(data['Expiration']==T) & (l<=data['LogStrike']) & (data['LogStrike']<=u),'IV']**2) for l,u in zip(klo,kup)])\n",
        "\n",
        "    # Determine quadratic form through these five average points\n",
        "    un=np.array([1 for l in klo])\n",
        "    A=np.matrix([ym*ym,ym*xm,xm*xm,ym,un]).T\n",
        "    a=np.linalg.solve(A,-xm)\n",
        "\n",
        "    # If it's already a hyperbola, we have our initial guess\n",
        "    if 4*a[0]*a[2]<a[1]**2: return std2straight(a)\n",
        "\n",
        "    # Otherwise, flip to approximating hyperbola and do a least squares fit to the five points\n",
        "    a[0]=-a[0]\n",
        "    def residHyp(chi):\n",
        "        return np.array([straightSVI(x,chi[0],chi[1],chi[2],chi[3],chi[4]) for x in xm])-ym\n",
        "    ap=sp.optimize.leastsq(residHyp,std2straight(a))\n",
        "    return ap[0]"
      ],
      "metadata": {
        "id": "i8hEYTdFpgL9"
      },
      "execution_count": null,
      "outputs": []
    },
    {
      "cell_type": "code",
      "source": [
        "T=expirs[3]\n",
        "print(data[data['Expiration']==T])\n",
        "#print(len(expirs))\n",
        "print(T)\n",
        "chi.loc[T,:]=chi0(T)\n",
        "print(chi.loc[T,:])\n",
        "chi.loc[T,:]=sp.optimize.leastsq(residSVI, list(chi.loc[T,:]), args=(T))[0]"
      ],
      "metadata": {
        "id": "1swnkDD8F7ui"
      },
      "execution_count": null,
      "outputs": []
    },
    {
      "cell_type": "code",
      "source": [
        "# Fit implied volatilities directly to obtain first guess on parameter vectors\n",
        "i=0\n",
        "for T in expirs:\n",
        "    i+=1\n",
        "    chi.loc[T,:]=chi0(T)\n",
        "    chi.loc[T,:]=sp.optimize.leastsq(residSVI, list(chi.loc[T,:]), args=(T))[0]\n",
        "    print('Got Parameters: ',chi.loc[T,:])\n",
        "   # log('Got Parameters: ', chi.loc[T,:])\n",
        "#log('Summary of initial guess for parameters:', chi)\n",
        "print('Summary of initial guess for parameters:', chi)"
      ],
      "metadata": {
        "id": "FPX_5x6jehaw"
      },
      "execution_count": null,
      "outputs": []
    },
    {
      "cell_type": "code",
      "source": [
        "\n",
        "# Function to quantify calendar arbitrage between two slices T1>T2 on grid\n",
        "# Lemma 2.2 from the lecture note\n",
        "def calendar(chi1, T1, chi2, T2):\n",
        "    if T2==0 or T1<=T2:\n",
        "        return 0\n",
        "    w1=[straightSVI(k, chi1[0], chi1[1], chi1[2]. chi1[3], chi1[4]) for k in grid[T1]]\n",
        "    w2=[straightSVI(k, chi2[0], chi2[1], chi2[2]. chi2[3], chi2[4]) for k in grid[T2]]\n",
        "    return sum([np.maxmimum(0,x2-x1) for x1, x2 in zip(w1,w2)])\n",
        "\n",
        "# Function to quantify buttefly arbitrage in a slice on grid\n",
        "def butterfly(chi, T):\n",
        "    w=np.array([straightSVI(k, chi[0], chi[1], chi[2], chi[3], chi[4]) for k in grid[T]])\n",
        "    wp=np.array([straightSVIp(k, chi[0], chi[1], chi[2], chi[3], chi[4]) for k in grid[T]])\n",
        "    wpp=np.array([straightSVIpp(k, chi[0], chi[1], chi[2], chi[3], chi[4]) for k in grid[T]])\n",
        "    g = (1.-(grid[T]*wp)/(2.*w))**2-wp**2/4.*(1./w+1./4.)+wpp/2.\n",
        "    return sum([np.maximum(0,-x) for x in g])\n",
        "# Residuals function for fitting option prices with penalties on arbitrage\n",
        "def residuals(chiT,T,Tp):\n",
        "    w=[straightSVI(k,chiT[0],chiT[1],chiT[2],chiT[3],chiT[4])/T for k in data.loc[data['Expiration']==T,'LogStrike']]\n",
        "    bs=[BlackScholes(\"C\",S0,K,r,sig,T,q) for K,sig in zip(data.loc[data['Expiration']==T,'Strike'],np.sqrt(w))]\n",
        "    calarbT=calendar(chiT,T,chi.loc[Tp,:],Tp) if Tp else 0\n",
        "    butarbT=butterfly(chiT,T)\n",
        "    e=data.loc[data['Expiration']==T,'Mid_Matrix']-bs\n",
        "    return e+(np.sqrt(sum(e)**2+(cpen*calarbT+bpen*butarbT)**2*len(e))-sum(e))/len(e)\n"
      ],
      "metadata": {
        "id": "1_OfqNsmaZfC"
      },
      "execution_count": null,
      "outputs": []
    },
    {
      "cell_type": "code",
      "source": [
        "# Reduce arbitrage by fitting option prices with penalties on calendar and butterfly arbitrage\n",
        "#maxbutarb=float(\"Inf\")\n",
        "#maxcalarb=float(\"Inf\")\n",
        "\n",
        "while maxbutarb>blim or maxcalarb>clim:\n",
        "    #log('Butterfly penalty factor: '+str(bpen))\n",
        "    #log('Calendar penalty factor: '+str(cpen))\n",
        "    j=0\n",
        "    Tp=0\n",
        "    maxbutarb=0\n",
        "    maxcalarb=0\n",
        "    for T in expirs:\n",
        "        j+=1\n",
        "        #log('Fitting mid prices on slice '+str(j)+', T='+str(T)+' ...')\n",
        "        chi.loc[T,:]=sp.optimize.leastsq(residuals,list(chi.loc[T,:]),args=(T,Tp))[0]\n",
        "       # log('Got parameters:',chi.loc[T,:])\n",
        "        butarb=butterfly(chi.loc[T,:],T)\n",
        "      #  log('Butterfly penalty for slice is '+str(bpen*butarb))\n",
        "        calarb=calendar(chi.loc[T,:],T,chi.loc[Tp,:],Tp) if Tp else 0\n",
        "      #  log('Calendar penalty for slice is '+str(cpen*calarb))\n",
        "        maxbutarb=np.maximum(maxbutarb,butarb)\n",
        "        maxcalarb=np.maximum(maxcalarb,calarb)\n",
        "        Tp=T\n",
        "    if maxbutarb>clim: bpen*=2\n",
        "    if maxcalarb>clim: cpen*=2\n",
        "\n",
        "#log('Maximum remaining butterfly arbitrage is '+str(maxbutarb))\n",
        "#log('Maximum remaining calendar arbitrage is '+str(maxcalarb))\n",
        "#log('Summary of final parameters:',chi)\n"
      ],
      "metadata": {
        "id": "-mivTKTipgNt"
      },
      "execution_count": null,
      "outputs": []
    },
    {
      "cell_type": "code",
      "source": [
        "\n",
        "# Report raw parameters and draw plots with final fit\n",
        "#\n",
        "raw=pd.DataFrame(index=expirs,columns=['a','b','rho','m','sigma'])\n",
        "for T in expirs: raw.loc[T,:]=straight2raw(chi.loc[T,:])\n",
        "print('Final raw SVI parameters:',raw)\n",
        "doplots('SVI104')\n",
        "\n",
        "#def discriminant(a,b,c,d,e):\n",
        "#    return 256*a**3*e**3-192*a**2*b*d*e**2-128*a**2*c**2*e**2 +144*a**2*c*d**2*e-27*a**2*d**4\\\n",
        "#           + 144*a*b**2*c*e**2 - 6*a*b**2*d**2*e -80*a*b*c**2*d*e+18*a*b*c*d**3+16*a*c**4*e\\\n",
        "#           -4*a*c**3*d**2-27*b**4*e**2+18*b**3*c*d*e-4*b**3*d**3-4*b**2*c**3*e+b**2*c**2*d**2"
      ],
      "metadata": {
        "id": "xroQMGnbpgPn"
      },
      "execution_count": null,
      "outputs": []
    }
  ]
}
