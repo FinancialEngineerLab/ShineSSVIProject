{
  "nbformat": 4,
  "nbformat_minor": 0,
  "metadata": {
    "colab": {
      "name": "SSVI_local.ipynb",
      "private_outputs": true,
      "provenance": [],
      "collapsed_sections": [],
      "authorship_tag": "ABX9TyMKzfPrblhGLIQS6lhZALze",
      "include_colab_link": true
    },
    "kernelspec": {
      "name": "python3",
      "display_name": "Python 3"
    },
    "language_info": {
      "name": "python"
    }
  },
  "cells": [
    {
      "cell_type": "markdown",
      "metadata": {
        "id": "view-in-github",
        "colab_type": "text"
      },
      "source": [
        "<a href=\"https://colab.research.google.com/github/FinancialEngineerLab/SSVILibrary/blob/main/SSVI_local_vol_temp.ipynb\" target=\"_parent\"><img src=\"https://colab.research.google.com/assets/colab-badge.svg\" alt=\"Open In Colab\"/></a>"
      ]
    },
    {
      "cell_type": "code",
      "execution_count": null,
      "metadata": {
        "id": "bTVLvNMPARCr"
      },
      "outputs": [],
      "source": [
        "from scipy.stats import norm\n",
        "from scipy import random\n",
        "import numpy as np\n",
        "import matplotlib.pyplot as plt\n",
        "from scipy.integrate import quad\n",
        "from mpl_toolkits.mplot3d import axes3d\n",
        "from matplotlib.colors import cnames\n",
        "import pandas as pd\n",
        "from scipy.optimize import bisect"
      ]
    },
    {
      "cell_type": "code",
      "source": [
        "# arbitrage-free #\n",
        "\n",
        "# phi function declare! #\n",
        "def phi(theta, params):\n",
        "    gamma, sigma, rho = params\n",
        "    return 1./(gamma*theta)*(1.0-(1.0-np.exp(-gamma*theta))/(gamma*theta))\n",
        "\n",
        "### SVI = w function###\n",
        "\n",
        "def SSVI(x, t, params):\n",
        "    gamma, sigma, rho = params\n",
        "    theta = sigma*sigma *t\n",
        "    p = phi(theta, params)\n",
        "    return 0.5*theta*(1.0 + rho*p*x + np.sqrt((p*x+rho)*(p*x+rho)+1.-rho*rho))\n",
        "\n",
        "\n",
        "def SSVIprime(x, t, params):\n",
        "    ## First derivative with respect to x\n",
        "    gamma, sigma, rho = params\n",
        "    theta = sigma*sigma*t\n",
        "    p = phi(theta, params)\n",
        "    return 0.5*theta*p*(p*x+rho*np.sqrt(p*p*x*x+2.*p*rho*x+1.)+rho)/np.sqrt(p*p*x*x+2.*p*rho*x+1.)\n",
        "\n",
        "def SSVIdoublePrime(x, t, params):\n",
        "    ## Second derivative with respect to x\n",
        "    gamma, sigma, rho = params\n",
        "    theta = sigma*sigma*t\n",
        "    p = phi(theta, params)\n",
        "    return 0.5*theta*p*p*(1.-rho*rho)/ ((p*p*x*x + 2.*p*rho*x + 1.)*np.sqrt(p*p*x*x+2.*p*rho*x+1.))\n",
        "\n",
        "def SSVITImeDerivative(x, t ,params):\n",
        "    gamma, sigma, rho = params\n",
        "    eps = 0.0001\n",
        "    return (SSVI(x, t+eps, params)- SSVI(x,t-eps, params)) / (2.0*eps)\n",
        "\n",
        "def g(x,t, params):\n",
        "    w = SSVI(x,t,params)\n",
        "    w1= SSVIprime(x,t,params)\n",
        "    w2 = SSVIdoublePrime(x, t, params)\n",
        "    return (1.0 - 0.5*x*w1/w) * (1.0 - 0.5*x*w1/w) - 0.25*w1*w1*(0.25+1.0/w)\n",
        "\n",
        "def dminus(x, t, params):\n",
        "    vSqrt = np.sqrt(SSVI(x,t,params))\n",
        "    return -x/Vsqrt - 0.5*vSqrt\n",
        "\n",
        "def densitySSVI(x, t, params):\n",
        "    dm = dminus(x,t,params)\n",
        "    return g(x,t,params)*np.exp(-0.5*dm*dm)/np.sqrt(2.0*np.pi*SSVI(x,t,params))\n",
        "\n",
        "def SSVI_LocalVarg(x,t,params):\n",
        "    return SSVITImeDerivative(x,t,params)/g(x,t,params)\n"
      ],
      "metadata": {
        "id": "GGeiEPYcBILa"
      },
      "execution_count": null,
      "outputs": []
    },
    {
      "cell_type": "code",
      "source": [
        "## Numerical Example : SSVI Local Vol ##\n",
        "# no calibration #\n",
        "sigma, gamma, rho = 0.2, 0.8, -0.7\n",
        "xx, TT = np.linspace(-1.0, 1.0, 50), np.linspace(0.001, 5.0, 50)\n",
        "\n",
        "print('Consistency Check for Arbitrage Free (static:',(gamma - 0.25*(1.+np.abs(rho))>0.))\n",
        "params = gamma, sigma, rho\n",
        "localVarianceSSVI = [[SSVI_LocalVarg(x, t, params) for x in xx] for t in TT]\n",
        "impliedVarianceSSVI = [[SSVI(x, t, params) for x in xx] for t in TT]\n"
      ],
      "metadata": {
        "id": "Kp3pnzbSBIN9"
      },
      "execution_count": null,
      "outputs": []
    },
    {
      "cell_type": "code",
      "source": [
        "# visualization #\n",
        "fig = plt.figure(figsize = (8,5))\n",
        "ax = fig.gca(projection='3d')\n",
        "xxx, TTT = np.meshgrid(xx,TT)\n",
        "localVarianceSSVIarr = np.array(localVarianceSSVI)\n",
        "impliedVarianceSSVIarr = np.array(impliedVarianceSSVI)\n",
        "ax.plot_surface(xxx, TTT, localVarianceSSVIarr, cmap=plt.cm.jet)\n",
        "ax.set_xlabel(\"Log - Moneyness\")\n",
        "ax.set_ylabel(\"Mat\")\n",
        "ax.set_zlabel(\"Local Var\")\n",
        "ax.set_title(\"SSVI Local Vol Surface\")\n",
        "plt.show()"
      ],
      "metadata": {
        "id": "4EymfYaxIKFN"
      },
      "execution_count": null,
      "outputs": []
    },
    {
      "cell_type": "code",
      "source": [
        "### MC Pricing & BSM ###\n",
        "def MC_localVol_pricing(s0, strike, T, params, nbSimul, nbSteps):\n",
        "    deltaT = T / (1.*nbSteps)\n",
        "    SS =np.linspace(s0, s0, nbSimul)\n",
        "    time = np.linspace(deltaT, T, nbSteps)\n",
        "    \n",
        "    for t in time:\n",
        "        sig = np.sqrt(SSVI_LocalVarg(np.log(SS), t, params))\n",
        "        SS = SS*np.exp(-0.5*sig*sig*deltaT + np.sqrt(deltaT)*sig*random.normal(0., 1., nbSimul))\n",
        "    price = np.mean(np.maximum(SS - strike, 0.))\n",
        "    return price"
      ],
      "metadata": {
        "id": "r-b2cLieIKM9"
      },
      "execution_count": null,
      "outputs": []
    },
    {
      "cell_type": "code",
      "source": [
        "def Gdensity(x): ## Gaussian density\n",
        "    return np.exp(-x*x/2.)/np.sqrt(2*np.pi)\n",
        "\n",
        "#### Black Sholes Vega\n",
        "def BlackScholesVegaCore(DF,F,X,T,v):\n",
        "    vsqrt=v*np.sqrt(T)\n",
        "    d1 = (np.log(F/X)+(vsqrt*vsqrt/2.))/vsqrt\n",
        "    return F*Gdensity(d1)*np.sqrt(T)/DF\n",
        "\n",
        "#### Black Sholes Function\n",
        "def BlackScholesCore(CallPutFlag,DF,F,X,T,v):\n",
        "    ## DF: discount factor\n",
        "    ## F: Forward\n",
        "    ## X: strike\n",
        "    vsqrt=v*np.sqrt(T)\n",
        "    d1 = (np.log(F/X)+(vsqrt*vsqrt/2.))/vsqrt\n",
        "    d2 = d1-vsqrt\n",
        "    if CallPutFlag:\n",
        "        return DF*(F*norm.cdf(d1)-X*norm.cdf(d2))\n",
        "    else:\n",
        "        return DF*(X*norm.cdf(-d2)-F*norm.cdf(-d1))\n",
        "    \n",
        "##  Black-Scholes Pricing Function\n",
        "def BlackScholes(CallPutFlag,S,X,T,r,d,v):\n",
        "    ## r, d: continuous interest rate and dividend\n",
        "    return BlackScholesCore(CallPutFlag,np.exp(-r*T),np.exp((r-d)*T)*S,X,T,v)\n",
        "\n",
        "def BSimpliedvol(r,T,s0,K, price):\n",
        "    ## Bisection algorithm when the Lee-Li algorithm breaks down\n",
        "    def smileMin(vol, *args):\n",
        "        K, s0, T, r, price = args\n",
        "        return price - BlackScholes(True, s0, K, T, r, 0., vol)\n",
        "    vMin, vMax = 0.000001, 2.\n",
        "    \n",
        "    return bisect(smileMin, vMin, vMax, args=(K, s0, T, r, price), xtol=1e-20, rtol=1e-15, full_output=False, disp=True)"
      ],
      "metadata": {
        "id": "7g3w59IpIKRy"
      },
      "execution_count": null,
      "outputs": []
    },
    {
      "cell_type": "code",
      "source": [
        "## Comparison of Implied Vol ##\n",
        "sigma, gamma, rho = 0.2, 0.8, -0.7\n",
        "s0, x, T = 1., 0., 1.\n",
        "nbSimul = 10000\n",
        "nbSteps = 100\n",
        "xx = np.linspace(-0.5, 0.5, 10)\n",
        "params = gamma, sigma, rho\n",
        "sigma, rho\n",
        "\n",
        "print(\"Consistency check for arbitrage - free: \", (gamma - 0.25*(1.+np.abs(rho))>0.))\n",
        "\n",
        "ssvivol = np.sqrt(SSVI(x, T, params)/T)\n",
        "BSPrice = BlackScholesCore(True,1.,s0,s0*np.exp(x),T,ssvivol)\n",
        "print(\"Black-Scholes implied vol: \", BSimpliedvol(0., T, s0, s0*np.exp(x), BSPrice))\n",
        "print(\"SSVI implied vol: \", ssvivol)\n",
        "\n",
        "price = MC_localVol_pricing(s0, s0*np.exp(x), T, params, nbSimul, nbSteps)\n",
        "print(\"Implied vol from local volatility price by MC: \",  BSimpliedvol(0., T, s0, s0*np.exp(x), price))"
      ],
      "metadata": {
        "id": "Rd32sHIzKjuK"
      },
      "execution_count": null,
      "outputs": []
    },
    {
      "cell_type": "code",
      "source": [
        "### Another Phi Function ###\n",
        "def phi(theta, params):\n",
        "    gamma, eta, sigma, rho = params\n",
        "    return eta / pow(theta, gamma)\n",
        "\n",
        "def SSVI(x, t, params):\n",
        "    gamma, eta, sigma, rho = params\n",
        "    theta = sigma*sigma*t\n",
        "    p = phi(theta, params)\n",
        "    return 0.5*theta*(1.+rho*p*x+np.sqrt((p*x+rho)*(p*x+rho)+1.-rho*rho))\n",
        "\n",
        "def SSVIprime(x, t, params):\n",
        "    ## First derivative with respect to x\n",
        "    gamma, eta, sigma, rho = params\n",
        "    theta = sigma*sigma*t\n",
        "    p = phi(theta, params)\n",
        "    return 0.5*theta*p*(p*x+rho*np.sqrt(p*p*x*x+2.*p*rho*x+1.)+rho)/np.sqrt(p*p*x*x+2.*p*rho*x+1.)\n",
        "\n",
        "def SSVIdoublePrime(x, t, params):\n",
        "    ## Second derivative with respect to x\n",
        "    gamma, eta, sigma, rho = params\n",
        "    theta = sigma*sigma*t\n",
        "    p = phi(theta, params)\n",
        "    return 0.5*theta*p*p*(1.-rho*rho)/ ((p*p*x*x + 2.*p*rho*x + 1.)*np.sqrt(p*p*x*x+2.*p*rho*x+1.))\n",
        "    \n",
        "def SSVItimeDerivative(x, t, params):\n",
        "    ## First derivative with respect to t, by central difference\n",
        "    eps = 0.0001\n",
        "    return (SSVI(x,t+eps,params) - SSVI(x,t-eps,params))/(2.*eps)\n",
        "\n",
        "def g(x, t, params):\n",
        "    w = SSVI(x,t,params)\n",
        "    w1 = SSVIprime(x,t,params)\n",
        "    w2 = SSVIdoublePrime(x,t,params)\n",
        "    return (1.-0.5*x*w1/w)*(1.-0.5*x*w1/w) - 0.25*w1*w1*(0.25 + 1./w) + 0.5*w2\n",
        "    \n",
        "\n",
        "def dminus(x, t, params):\n",
        "    vsqrt = np.sqrt(SSVI(x,t,params))\n",
        "    return -x/vsqrt - 0.5*vsqrt\n",
        "    \n",
        "def densitySSVI(x, t, params):\n",
        "    dm = dminus(x,t,params)\n",
        "    return g(x,t,params)*np.exp(-0.5*dm*dm)/np.sqrt(2.*np.pi*SSVI(x,t,params))\n",
        "\n",
        "def SSVI_LocalVarg(x, t, params):\n",
        "    ## Compute the equivalent SSVI local variance\n",
        "    return SSVItimeDerivative(x,t,params) / g(x,t,params)"
      ],
      "metadata": {
        "id": "U64d4jCRLOZy"
      },
      "execution_count": null,
      "outputs": []
    },
    {
      "cell_type": "code",
      "source": [
        "sigma, gamma, eta, rho = 0.2, 0.4, 0.2, -0.4\n",
        "xx, TT = np.linspace(-1., 1.,20), np.linspace(0.1, 2., 20)\n",
        "\n",
        "\n",
        "print(\"Consistency check to avoid static arbitrage: \", (gamma - 0.25*(1.+np.abs(rho))>0.))\n",
        "params = gamma, eta, sigma, rho\n",
        "\n",
        "localVarianceSSVI_2 = [[SSVI_LocalVarg(x, t, params) for x in xx] for t in TT]"
      ],
      "metadata": {
        "id": "jSmAhf_4LZhB"
      },
      "execution_count": null,
      "outputs": []
    },
    {
      "cell_type": "code",
      "source": [
        "fig = plt.figure(figsize=(8,5))\n",
        "ax = fig.gca(projection='3d')\n",
        "xxx, TTT = np.meshgrid(xx, TT)\n",
        "localVarianceSSVI_2arr = np.array(localVarianceSSVI_2)\n",
        "ax.plot_surface(xxx, TTT, localVarianceSSVI_2arr, cmap=plt.cm.jet, rstride=1, cstride=1, linewidth=0)\n",
        "ax.set_xlabel(\"Log-moneyness\")\n",
        "ax.set_ylabel(\"Maturity\")\n",
        "ax.set_zlabel(\"Local variance\")\n",
        "ax.set_title(\"SSVI local variance\")\n",
        "plt.show()"
      ],
      "metadata": {
        "id": "ejztyGAuLiCD"
      },
      "execution_count": null,
      "outputs": []
    },
    {
      "cell_type": "code",
      "source": [
        ""
      ],
      "metadata": {
        "id": "TMcypTxJMFpI"
      },
      "execution_count": null,
      "outputs": []
    }
  ]
}